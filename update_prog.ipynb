{
 "cells": [
  {
   "cell_type": "code",
   "execution_count": 1,
   "id": "c5a02fa9-cce5-4d69-b1d4-515ff824d497",
   "metadata": {},
   "outputs": [
    {
     "name": "stdout",
     "output_type": "stream",
     "text": [
      "WARNING:tensorflow:From c:\\Users\\wmmjk\\anaconda3\\lib\\site-packages\\tf_keras\\src\\losses.py:2976: The name tf.losses.sparse_softmax_cross_entropy is deprecated. Please use tf.compat.v1.losses.sparse_softmax_cross_entropy instead.\n",
      "\n"
     ]
    },
    {
     "ename": "ModuleNotFoundError",
     "evalue": "No module named 'optimum'",
     "output_type": "error",
     "traceback": [
      "\u001b[1;31m---------------------------------------------------------------------------\u001b[0m",
      "\u001b[1;31mModuleNotFoundError\u001b[0m                       Traceback (most recent call last)",
      "Cell \u001b[1;32mIn[1], line 1\u001b[0m\n\u001b[1;32m----> 1\u001b[0m \u001b[38;5;28;01mfrom\u001b[39;00m \u001b[38;5;21;01mPrograms\u001b[39;00m \u001b[38;5;28;01mimport\u001b[39;00m Program\n\u001b[0;32m      2\u001b[0m \u001b[38;5;28;01mimport\u001b[39;00m \u001b[38;5;21;01mpickle\u001b[39;00m\n\u001b[0;32m      3\u001b[0m program_list \u001b[38;5;241m=\u001b[39m []\n",
      "File \u001b[1;32mc:\\Users\\wmmjk\\cfs-rec-sys\\Programs.py:50\u001b[0m\n\u001b[0;32m     48\u001b[0m \u001b[38;5;28;01mimport\u001b[39;00m \u001b[38;5;21;01mtorch\u001b[39;00m\n\u001b[0;32m     49\u001b[0m \u001b[38;5;28;01mimport\u001b[39;00m \u001b[38;5;21;01mnumpy\u001b[39;00m \u001b[38;5;28;01mas\u001b[39;00m \u001b[38;5;21;01mnp\u001b[39;00m\n\u001b[1;32m---> 50\u001b[0m \u001b[38;5;28;01mfrom\u001b[39;00m \u001b[38;5;21;01moptimum\u001b[39;00m\u001b[38;5;21;01m.\u001b[39;00m\u001b[38;5;21;01monnxruntime\u001b[39;00m \u001b[38;5;28;01mimport\u001b[39;00m ORTModelForFeatureExtraction\n\u001b[0;32m     53\u001b[0m \u001b[38;5;66;03m# Load the MPNet model for content understanding\u001b[39;00m\n\u001b[0;32m     54\u001b[0m semantic_model \u001b[38;5;241m=\u001b[39m ORTModelForFeatureExtraction\u001b[38;5;241m.\u001b[39mfrom_pretrained(\u001b[38;5;124m\"\u001b[39m\u001b[38;5;124monnx/mpnet_quantized\u001b[39m\u001b[38;5;124m\"\u001b[39m)\n",
      "\u001b[1;31mModuleNotFoundError\u001b[0m: No module named 'optimum'"
     ]
    }
   ],
   "source": [
    "from Programs import Program\n",
    "import pickle\n",
    "program_list = []"
   ]
  },
  {
   "cell_type": "code",
   "execution_count": null,
   "id": "e13d47e1-2854-4d52-a1be-640105682a9f",
   "metadata": {},
   "outputs": [],
   "source": [
    "PrimalTrust = Program('Primal Trust')\n",
    "PrimalTrust.url= \"https://www.primaltrust.org/\" \n",
    "PrimalTrust.price = 588  \n",
    "PrimalTrust.pricing_notes = \"$98/month, price shown is for 6 months.\"  \n",
    "PrimalTrust.discount = \"https://www.primaltrust.org/contact/\"\n",
    "PrimalTrust.coaching = \"Optional Add-On\" \n",
    "PrimalTrust.refundable = False \n",
    "PrimalTrust.community = \"Yes\" \n",
    "PrimalTrust.forum = \"Yes\"\n",
    "program_list.append(PrimalTrust)"
   ]
  },
  {
   "cell_type": "code",
   "execution_count": null,
   "id": "0f3d18f5-1633-4c09-b41d-58d0d35de725",
   "metadata": {},
   "outputs": [],
   "source": [
    "ANS_Rewire = Program('ANS Rewire')\n",
    "ANS_Rewire.url = \"https://ansrewire.com/\" \n",
    "ANS_Rewire.price = 340 \n",
    "ANS_Rewire.pricing_notes = \"537 AUD for 12 months access, exact conversion to USD will vary.\"\n",
    "ANS_Rewire.discount = False \n",
    "ANS_Rewire.coaching = \"Optional Add-On\"\n",
    "ANS_Rewire.refundable = \"100% within 30 days.\" \n",
    "ANS_Rewire.community = False \n",
    "ANS_Rewire.forum = False\n",
    "program_list.append(ANS_Rewire)"
   ]
  },
  {
   "cell_type": "code",
   "execution_count": null,
   "id": "099ecbed-a6b5-4622-9651-73dd9ac4d96f",
   "metadata": {},
   "outputs": [],
   "source": [
    "re_origin = Program('re-origin') \n",
    "re_origin.description = False \n",
    "re_origin.url = \"https://www.re-origin.com/\" \n",
    "re_origin.price = 379 \n",
    "re_origin.pricing_notes = 'For 12 months access, 10% off if you subscribe to their newsletter.' \n",
    "re_origin.discount = 'https://www.re-origin.com/support/do-you-have-a-scholarship-program' \n",
    "re_origin.coaching = \"Optional Add-On\"\n",
    "re_origin.refundable = \"100% within 12 months.\" \n",
    "re_origin.community = \"Yes\" \n",
    "re_origin.forum = \"Yes\" \n",
    "program_list.append(re_origin)"
   ]
  },
  {
   "cell_type": "code",
   "execution_count": null,
   "id": "51285549-d9cd-43bf-8a11-acfdaaf32b7d",
   "metadata": {},
   "outputs": [],
   "source": [
    "The_Edison_Effect = Program(\"The Edison Effect\")\n",
    "The_Edison_Effect.description = False \n",
    "The_Edison_Effect.url = \"https://www.anjgranieri.com/store\" \n",
    "The_Edison_Effect.price = 499\n",
    "The_Edison_Effect.pricing_notes = \"For 12 months access.\"\n",
    "The_Edison_Effect.discount = 'https://www.anjgranieri.com/store' \n",
    "The_Edison_Effect.coaching = \"Optional Add-On\"\n",
    "The_Edison_Effect.refundable = False \n",
    "The_Edison_Effect.community = \"Optional Add-On\" \n",
    "The_Edison_Effect.forum = False\n",
    "program_list.append(The_Edison_Effect)"
   ]
  },
  {
   "cell_type": "code",
   "execution_count": null,
   "id": "ab219b1d-d631-4d9a-a4e5-a3b8d03e4d90",
   "metadata": {},
   "outputs": [],
   "source": [
    "DNRS = Program(\"DNRS\")\n",
    "DNRS.description = False \n",
    "DNRS.url = \"https://retrainingthebrain.com/\" \n",
    "DNRS.price = 350 \n",
    "DNRS.pricing_notes = \"For 12 months access.\"\n",
    "DNRS.discount = False\n",
    "DNRS.coaching = \"Optional Add-On\"\n",
    "DNRS.refundable = \"100% within 6 months.\" \n",
    "DNRS.community = \"Optional Add-On\"\n",
    "DNRS.forum = 'y'\n",
    "program_list.append(DNRS)"
   ]
  },
  {
   "cell_type": "code",
   "execution_count": null,
   "id": "3abc9981-8175-4bbf-87a9-df79455b6b1a",
   "metadata": {},
   "outputs": [],
   "source": [
    "Gupta = Program(\"The Gupta Program\")\n",
    "Gupta.description = False \n",
    "Gupta.url = \"https://guptaprogram.com/\" \n",
    "Gupta.price = 499\n",
    "Gupta.pricing_notes = \"For 12 months access.\"\n",
    "Gupta.discount = False\n",
    "Gupta.coaching = \"Optional Add-On\"\n",
    "Gupta.refundable = \"100% within 12 months.\" \n",
    "Gupta.community = \"Yes\" \n",
    "Gupta.forum = False\n",
    "program_list.append(Gupta)"
   ]
  },
  {
   "cell_type": "code",
   "execution_count": null,
   "id": "ac9ec93a-e4f8-4b15-8b35-7af9bc1ff070",
   "metadata": {},
   "outputs": [],
   "source": [
    "VitalSide = Program(\"Vital Side: Rewire\") \n",
    "VitalSide.description = False \n",
    "VitalSide.url = \"https://vital-side.com/pages/vital-side-membership\"\n",
    "VitalSide.price = 397 \n",
    "VitalSide.pricing_notes = \"For 12 months access.\"\n",
    "VitalSide.discount = False \n",
    "VitalSide.coaching = \"Optional Add-On\"\n",
    "VitalSide.refundable = False \n",
    "VitalSide.community = \"Yes\"\n",
    "VitalSide.forum = \"Yes\"\n",
    "program_list.append(VitalSide)"
   ]
  },
  {
   "cell_type": "code",
   "execution_count": null,
   "id": "1f41d5c7-ba46-4eac-ba37-6fa2ef848b28",
   "metadata": {},
   "outputs": [],
   "source": [
    "HealThruNeuroplast = Program(\"Healing Through Neuroplasticity\") \n",
    "HealThruNeuroplast.description = False \n",
    "HealThruNeuroplast.url = \"https://www.eleanorsteinmd.ca/pain\" \n",
    "HealThruNeuroplast.price = 497\n",
    "HealThruNeuroplast.pricing_notes = \"For 12 months.\" \n",
    "HealThruNeuroplast.discount = \"https://www.eleanorsteinmd.ca/pain\" \n",
    "HealThruNeuroplast.coaching = \"Optional Add-On\"\n",
    "HealThruNeuroplast.refundable = \"100% within 30 days.\" \n",
    "HealThruNeuroplast.community = False \n",
    "HealThruNeuroplast.forum = \"Yes\"\n",
    "program_list.append(HealThruNeuroplast)"
   ]
  },
  {
   "cell_type": "code",
   "execution_count": null,
   "id": "88e2da78-35ad-4419-8d7e-4e11f5ed5f2d",
   "metadata": {},
   "outputs": [],
   "source": [
    "CFSSchool = Program(\"CFS School: HEAL\") \n",
    "CFSSchool.description = False \n",
    "CFSSchool.url = \"https://somiainternational.com/heal/\"\n",
    "CFSSchool.price = 997 \n",
    "CFSSchool.pricing_notes = \"For lifetime access.\" \n",
    "CFSSchool.discount = \"https://somiainternational.com/heal/#faq\"\n",
    "CFSSchool.coaching = \"Optional Add-On\"\n",
    "CFSSchool.refundable = \"Free trial period - Access to the first module (https://programs.somiainternational.com/try-heal).\" \n",
    "CFSSchool.community = \"Optional Add-On\"\n",
    "CFSSchool.forum = \"Yes\"\n",
    "program_list.append(CFSSchool)"
   ]
  },
  {
   "cell_type": "code",
   "execution_count": null,
   "id": "0850f89f-1038-4ed2-b0ff-724dec7270e4",
   "metadata": {},
   "outputs": [],
   "source": [
    "Release = Program(\"Release CFS\") \n",
    "Release.description = False \n",
    "Release.url = \"https://releasecfs.com/release-program/\"\n",
    "Release.price = 490\n",
    "Release.pricing_notes = \"432 EUR for 12 months access, exact conversion to USD will vary.\"\n",
    "Release.discount = False\n",
    "Release.coaching = \"Optional Add-On\" \n",
    "Release.refundable = False \n",
    "Release.community = \"Yes\" \n",
    "Release.forum = False\n",
    "program_list.append(Release)"
   ]
  },
  {
   "cell_type": "code",
   "execution_count": null,
   "id": "7fc68ef0-6dcb-4707-9083-9d6aa2dfe300",
   "metadata": {},
   "outputs": [],
   "source": [
    "BYOM = Program(\"Be Your Own Medicine\") \n",
    "BYOM.description = False \n",
    "BYOM.url = \"https://www.rebeccatolin.com/course\"\n",
    "BYOM.price = 595\n",
    "BYOM.pricing_notes = \"For the lifetime of the program, at least 12 months.\" \n",
    "BYOM.discount = \"https://docs.google.com/forms/d/e/1FAIpQLSe93WVHJ_qd4T9B2wn9z6mchRv8jf-YrguCIye16vF1DpQZfQ/viewform\"\n",
    "BYOM.coaching = \"Optional Add-On\" \n",
    "BYOM.refundable = \"100% (less $75) within 7 days.\"\n",
    "BYOM.community = \"Yes\" \n",
    "BYOM.forum = False\n",
    "program_list.append(BYOM)"
   ]
  },
  {
   "cell_type": "code",
   "execution_count": null,
   "id": "84fdaf7c-2cbd-4795-ae34-40e4f799fd84",
   "metadata": {},
   "outputs": [],
   "source": [
    "Haven = Program(\"Haven\") \n",
    "Haven.description = False \n",
    "Haven.url = \"https://yourgratefulguide.com/join-haven/learn-more\"\n",
    "Haven.price = 330\n",
    "Haven.pricing_notes = \"$55/month, price shown is for 6 months. Quarterly and yearly pricing also available.\"\n",
    "Haven.discount = False\n",
    "Haven.coaching = \"Optional Add-On\" \n",
    "Haven.refundable = \"Free trial period - 7 days.\"\n",
    "Haven.community = \"Yes\" \n",
    "Haven.forum = \"Yes\"\n",
    "program_list.append(Haven)"
   ]
  },
  {
   "cell_type": "code",
   "execution_count": null,
   "id": "f9909157-6bdf-415a-8765-cf00a2edbf04",
   "metadata": {},
   "outputs": [],
   "source": [
    "Reset = Program(\"Reset\") \n",
    "Reset.description = False \n",
    "Reset.url = \"https://www.alexhoward.com/decodeyourfatigue/reset\"\n",
    "Reset.price = 497\n",
    "Reset.pricing_notes = \"For 12 months access.\" \n",
    "Reset.discount = False\n",
    "Reset.coaching = \"Optional Add-On\" \n",
    "Reset.refundable = \"100% within 14 days.\"\n",
    "Reset.community = \"Yes\" \n",
    "Reset.forum = \"Yes\"\n",
    "program_list.append(Reset)"
   ]
  },
  {
   "cell_type": "code",
   "execution_count": null,
   "id": "10eb5b31-dced-4956-a374-185c1b5fe33e",
   "metadata": {},
   "outputs": [],
   "source": [
    "NSR = Program(\"Nervous System Rewire\") \n",
    "NSR.description = False \n",
    "NSR.url = \"https://nervoussystemrewire.mykajabi.com/\"\n",
    "NSR.price = 505\n",
    "NSR.pricing_notes = \"699 CAD for 12 months access, exact conversion to USD will vary.\"\n",
    "NSR.discount = False\n",
    "NSR.coaching = \"Optional Add-On\" \n",
    "NSR.refundable = \"100% within 6 months.\"\n",
    "NSR.community = \"Optional Add-On\" \n",
    "NSR.forum = \"Yes\"\n",
    "program_list.append(NSR)"
   ]
  },
  {
   "cell_type": "code",
   "execution_count": null,
   "id": "db59a9ad-b704-43ec-bc0a-917c80442374",
   "metadata": {},
   "outputs": [],
   "source": [
    "BR101 = Program(\"Brain Retraining 101\") \n",
    "BR101.description = False \n",
    "BR101.url = \"https://raelan-agle-s-school1.teachable.com/p/brain_retraining_101\"\n",
    "BR101.price = 295\n",
    "BR101.pricing_notes = \"For 12 months access.\"\n",
    "BR101.discount = False\n",
    "BR101.coaching = \"Weekly Group call.\"\n",
    "BR101.refundable = \"100% within 14 days.\"\n",
    "BR101.community = \"Yes\" \n",
    "BR101.forum = False\n",
    "program_list.append(BR101)"
   ]
  },
  {
   "cell_type": "code",
   "execution_count": null,
   "id": "86cc8ffc-e5c8-49da-9d8f-8854b3ed2305",
   "metadata": {},
   "outputs": [
    {
     "name": "stdout",
     "output_type": "stream",
     "text": [
      "Primal Trust\n",
      "ANS Rewire\n",
      "re-origin\n",
      "The Edison Effect\n",
      "DNRS\n",
      "The Gupta Program\n",
      "Vital Side: Rewire\n",
      "Healing Through Neuroplasticity\n",
      "CFS School: HEAL\n",
      "Release CFS\n",
      "Be Your Own Medicine\n",
      "Haven\n",
      "Reset\n",
      "Nervous System Rewire\n",
      "Brain Retraining 101\n"
     ]
    }
   ],
   "source": [
    "for prog in program_list: print(prog.name)"
   ]
  },
  {
   "cell_type": "code",
   "execution_count": null,
   "id": "dff7ae72-aeeb-49f0-9d6c-dad3efcc2de0",
   "metadata": {},
   "outputs": [],
   "source": [
    "# Save to file\n",
    "with open('program_list.pkl', 'wb') as file:\n",
    "    pickle.dump(program_list, file)"
   ]
  }
 ],
 "metadata": {
  "kernelspec": {
   "display_name": "base",
   "language": "python",
   "name": "python3"
  },
  "language_info": {
   "codemirror_mode": {
    "name": "ipython",
    "version": 3
   },
   "file_extension": ".py",
   "mimetype": "text/x-python",
   "name": "python",
   "nbconvert_exporter": "python",
   "pygments_lexer": "ipython3",
   "version": "3.9.21"
  }
 },
 "nbformat": 4,
 "nbformat_minor": 5
}
