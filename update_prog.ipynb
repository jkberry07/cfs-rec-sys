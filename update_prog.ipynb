{
 "cells": [
  {
   "cell_type": "code",
   "execution_count": 90,
   "id": "c5a02fa9-cce5-4d69-b1d4-515ff824d497",
   "metadata": {},
   "outputs": [],
   "source": [
    "from Programs import Program\n",
    "import pickle\n",
    "program_list = []"
   ]
  },
  {
   "cell_type": "code",
   "execution_count": 91,
   "id": "e13d47e1-2854-4d52-a1be-640105682a9f",
   "metadata": {},
   "outputs": [],
   "source": [
    "PrimalTrust = Program('Primal Trust')\n",
    "PrimalTrust.url= \"https://www.primaltrust.org/\" \n",
    "PrimalTrust.price = 588  \n",
    "PrimalTrust.pricing_notes = \"Over 6 months, monthly subscription at $98/month\"  \n",
    "PrimalTrust.discount = [] \n",
    "PrimalTrust.coaching = \"o\" \n",
    "PrimalTrust.refundable = [] \n",
    "PrimalTrust.community = \"y\" \n",
    "PrimalTrust.forum = \"y\"\n",
    "program_list.append(PrimalTrust)"
   ]
  },
  {
   "cell_type": "code",
   "execution_count": 92,
   "id": "0f3d18f5-1633-4c09-b41d-58d0d35de725",
   "metadata": {},
   "outputs": [],
   "source": [
    "ANS_Rewire = Program('ANS Rewire')\n",
    "ANS_Rewire.url = \"https://ansrewire.com/\" \n",
    "ANS_Rewire.price = 340 \n",
    "ANS_Rewire.pricing_notes = [] \n",
    "ANS_Rewire.discount = [] \n",
    "ANS_Rewire.coaching = \"o\" \n",
    "ANS_Rewire.refundable = \"100% within 30 days.\" \n",
    "ANS_Rewire.community = \"n\" \n",
    "ANS_Rewire.forum = \"n\"\n",
    "program_list.append(ANS_Rewire)"
   ]
  },
  {
   "cell_type": "code",
   "execution_count": 93,
   "id": "099ecbed-a6b5-4622-9651-73dd9ac4d96f",
   "metadata": {},
   "outputs": [],
   "source": [
    "re_origin = Program('re-origin') \n",
    "re_origin.description = [] \n",
    "re_origin.url = \"https://www.re-origin.com/\" \n",
    "re_origin.price = 379 \n",
    "re_origin.pricing_notes = '10% off if you subscribe to their newsletter.' \n",
    "re_origin.discount = 'https://www.re-origin.com/support/do-you-have-a-scholarship-program' \n",
    "re_origin.coaching = \"o\" \n",
    "re_origin.refundable = \"100% within 12 months.\" \n",
    "re_origin.community = \"y\" \n",
    "re_origin.forum = \"y\" \n",
    "program_list.append(re_origin)"
   ]
  },
  {
   "cell_type": "code",
   "execution_count": 94,
   "id": "51285549-d9cd-43bf-8a11-acfdaaf32b7d",
   "metadata": {},
   "outputs": [],
   "source": [
    "The_Edison_Effect = Program(\"The Edison Effect\")\n",
    "The_Edison_Effect.description = [] \n",
    "The_Edison_Effect.url = \"https://www.anjgranieri.com/store\" \n",
    "The_Edison_Effect.price = 499\n",
    "The_Edison_Effect.pricing_notes = []\n",
    "The_Edison_Effect.discount = 'https://www.anjgranieri.com/store' \n",
    "The_Edison_Effect.coaching = \"o\" \n",
    "The_Edison_Effect.refundable = [] \n",
    "The_Edison_Effect.community = \"o\" \n",
    "The_Edison_Effect.forum = []\n",
    "program_list.append(The_Edison_Effect)"
   ]
  },
  {
   "cell_type": "code",
   "execution_count": 95,
   "id": "ab219b1d-d631-4d9a-a4e5-a3b8d03e4d90",
   "metadata": {},
   "outputs": [],
   "source": [
    "DNRS = Program(\"DNRS\")\n",
    "DNRS.description = [] \n",
    "DNRS.url = \"https://retrainingthebrain.com/\" \n",
    "DNRS.price = 350 \n",
    "DNRS.pricing_notes = [] \n",
    "DNRS.discount = []\n",
    "DNRS.coaching = \"o\" \n",
    "DNRS.refundable = \"100% within 6 months.\" \n",
    "DNRS.community = \"o\"\n",
    "DNRS.forum = 'y'\n",
    "program_list.append(DNRS)"
   ]
  },
  {
   "cell_type": "code",
   "execution_count": 96,
   "id": "3abc9981-8175-4bbf-87a9-df79455b6b1a",
   "metadata": {},
   "outputs": [],
   "source": [
    "Gupta = Program(\"The Gupta Program\")\n",
    "Gupta.description = [] \n",
    "Gupta.url = \"https://guptaprogram.com/\" \n",
    "Gupta.price = 499\n",
    "Gupta.pricing_notes = []\n",
    "Gupta.discount = []\n",
    "Gupta.coaching = \"o\"\n",
    "Gupta.refundable = \"100% within 12 months.\" \n",
    "Gupta.community = \"y\" \n",
    "Gupta.forum = []\n",
    "program_list.append(Gupta)"
   ]
  },
  {
   "cell_type": "code",
   "execution_count": 97,
   "id": "ac9ec93a-e4f8-4b15-8b35-7af9bc1ff070",
   "metadata": {},
   "outputs": [],
   "source": [
    "VitalSide = Program(\"Vital Side: Rewire\") \n",
    "VitalSide.description = [] \n",
    "VitalSide.url = \"https://vital-side.com/pages/vital-side-membership\"\n",
    "VitalSide.price = 397 \n",
    "VitalSide.pricing_notes = [] \n",
    "VitalSide.discount = [] \n",
    "VitalSide.coaching = \"o\" \n",
    "VitalSide.refundable = [] \n",
    "VitalSide.community = \"y\"\n",
    "VitalSide.forum = \"y\"\n",
    "program_list.append(VitalSide)"
   ]
  },
  {
   "cell_type": "code",
   "execution_count": 98,
   "id": "1f41d5c7-ba46-4eac-ba37-6fa2ef848b28",
   "metadata": {},
   "outputs": [],
   "source": [
    "HealThruNeuroplast = Program(\"Healing Through Neuroplasticity\") \n",
    "HealThruNeuroplast.description = [] \n",
    "HealThruNeuroplast.url = \"https://www.eleanorsteinmd.ca/pain\" \n",
    "HealThruNeuroplast.price = 497 \n",
    "HealThruNeuroplast.pricing_notes = [] \n",
    "HealThruNeuroplast.discount = \"https://www.eleanorsteinmd.ca/pain\" \n",
    "HealThruNeuroplast.coaching = \"o\" \n",
    "HealThruNeuroplast.refundable = \"100% within 30 days\" \n",
    "HealThruNeuroplast.community = \"n\" \n",
    "HealThruNeuroplast.forum = \"y\""
   ]
  },
  {
   "cell_type": "code",
   "execution_count": 99,
   "id": "86cc8ffc-e5c8-49da-9d8f-8854b3ed2305",
   "metadata": {},
   "outputs": [
    {
     "name": "stdout",
     "output_type": "stream",
     "text": [
      "Primal Trust\n",
      "ANS Rewire\n",
      "re-origin\n",
      "The Edison Effect\n",
      "DNRS\n",
      "The Gupta Program\n",
      "Vital Side: Rewire\n"
     ]
    }
   ],
   "source": [
    "for prog in program_list: print(prog.name)"
   ]
  },
  {
   "cell_type": "code",
   "execution_count": 100,
   "id": "dff7ae72-aeeb-49f0-9d6c-dad3efcc2de0",
   "metadata": {},
   "outputs": [],
   "source": [
    "# Save to file\n",
    "with open('program_list.pkl', 'wb') as file:\n",
    "    pickle.dump(program_list, file)"
   ]
  }
 ],
 "metadata": {
  "kernelspec": {
   "display_name": "Python [conda env:base] *",
   "language": "python",
   "name": "conda-base-py"
  },
  "language_info": {
   "codemirror_mode": {
    "name": "ipython",
    "version": 3
   },
   "file_extension": ".py",
   "mimetype": "text/x-python",
   "name": "python",
   "nbconvert_exporter": "python",
   "pygments_lexer": "ipython3",
   "version": "3.9.21"
  }
 },
 "nbformat": 4,
 "nbformat_minor": 5
}
