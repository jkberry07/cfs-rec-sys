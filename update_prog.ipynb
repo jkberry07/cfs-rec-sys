{
 "cells": [
  {
   "cell_type": "code",
   "execution_count": 206,
   "id": "c5a02fa9-cce5-4d69-b1d4-515ff824d497",
   "metadata": {},
   "outputs": [],
   "source": [
    "from Programs import Program\n",
    "import pickle\n",
    "program_list = []"
   ]
  },
  {
   "cell_type": "code",
   "execution_count": 207,
   "id": "e13d47e1-2854-4d52-a1be-640105682a9f",
   "metadata": {},
   "outputs": [],
   "source": [
    "PrimalTrust = Program('Primal Trust')\n",
    "PrimalTrust.url= \"https://www.primaltrust.org/\" \n",
    "PrimalTrust.price = 588  \n",
    "PrimalTrust.pricing_notes = \"$98/month, price shown is for 6 months.\"  \n",
    "PrimalTrust.discount = [] \n",
    "PrimalTrust.coaching = \"o\" \n",
    "PrimalTrust.refundable = [] \n",
    "PrimalTrust.community = \"y\" \n",
    "PrimalTrust.forum = \"y\"\n",
    "program_list.append(PrimalTrust)"
   ]
  },
  {
   "cell_type": "code",
   "execution_count": 208,
   "id": "0f3d18f5-1633-4c09-b41d-58d0d35de725",
   "metadata": {},
   "outputs": [],
   "source": [
    "ANS_Rewire = Program('ANS Rewire')\n",
    "ANS_Rewire.url = \"https://ansrewire.com/\" \n",
    "ANS_Rewire.price = 340 \n",
    "ANS_Rewire.pricing_notes = [\"537 AUD, exact conversion to USD will vary.\"] \n",
    "ANS_Rewire.discount = [] \n",
    "ANS_Rewire.coaching = \"o\" \n",
    "ANS_Rewire.refundable = \"100% within 30 days.\" \n",
    "ANS_Rewire.community = \"n\" \n",
    "ANS_Rewire.forum = \"n\"\n",
    "program_list.append(ANS_Rewire)"
   ]
  },
  {
   "cell_type": "code",
   "execution_count": 209,
   "id": "099ecbed-a6b5-4622-9651-73dd9ac4d96f",
   "metadata": {},
   "outputs": [],
   "source": [
    "re_origin = Program('re-origin') \n",
    "re_origin.description = [] \n",
    "re_origin.url = \"https://www.re-origin.com/\" \n",
    "re_origin.price = 379 \n",
    "re_origin.pricing_notes = '10% off if you subscribe to their newsletter.' \n",
    "re_origin.discount = 'https://www.re-origin.com/support/do-you-have-a-scholarship-program' \n",
    "re_origin.coaching = \"o\" \n",
    "re_origin.refundable = \"100% within 12 months.\" \n",
    "re_origin.community = \"y\" \n",
    "re_origin.forum = \"y\" \n",
    "program_list.append(re_origin)"
   ]
  },
  {
   "cell_type": "code",
   "execution_count": 210,
   "id": "51285549-d9cd-43bf-8a11-acfdaaf32b7d",
   "metadata": {},
   "outputs": [],
   "source": [
    "The_Edison_Effect = Program(\"The Edison Effect\")\n",
    "The_Edison_Effect.description = [] \n",
    "The_Edison_Effect.url = \"https://www.anjgranieri.com/store\" \n",
    "The_Edison_Effect.price = 499\n",
    "The_Edison_Effect.pricing_notes = []\n",
    "The_Edison_Effect.discount = 'https://www.anjgranieri.com/store' \n",
    "The_Edison_Effect.coaching = \"o\" \n",
    "The_Edison_Effect.refundable = [] \n",
    "The_Edison_Effect.community = \"o\" \n",
    "The_Edison_Effect.forum = []\n",
    "program_list.append(The_Edison_Effect)"
   ]
  },
  {
   "cell_type": "code",
   "execution_count": 211,
   "id": "ab219b1d-d631-4d9a-a4e5-a3b8d03e4d90",
   "metadata": {},
   "outputs": [],
   "source": [
    "DNRS = Program(\"DNRS\")\n",
    "DNRS.description = [] \n",
    "DNRS.url = \"https://retrainingthebrain.com/\" \n",
    "DNRS.price = 350 \n",
    "DNRS.pricing_notes = [] \n",
    "DNRS.discount = []\n",
    "DNRS.coaching = \"o\" \n",
    "DNRS.refundable = \"100% within 6 months.\" \n",
    "DNRS.community = \"o\"\n",
    "DNRS.forum = 'y'\n",
    "program_list.append(DNRS)"
   ]
  },
  {
   "cell_type": "code",
   "execution_count": 212,
   "id": "3abc9981-8175-4bbf-87a9-df79455b6b1a",
   "metadata": {},
   "outputs": [],
   "source": [
    "Gupta = Program(\"The Gupta Program\")\n",
    "Gupta.description = [] \n",
    "Gupta.url = \"https://guptaprogram.com/\" \n",
    "Gupta.price = 499\n",
    "Gupta.pricing_notes = []\n",
    "Gupta.discount = []\n",
    "Gupta.coaching = \"o\"\n",
    "Gupta.refundable = \"100% within 12 months.\" \n",
    "Gupta.community = \"y\" \n",
    "Gupta.forum = []\n",
    "program_list.append(Gupta)"
   ]
  },
  {
   "cell_type": "code",
   "execution_count": 213,
   "id": "ac9ec93a-e4f8-4b15-8b35-7af9bc1ff070",
   "metadata": {},
   "outputs": [],
   "source": [
    "VitalSide = Program(\"Vital Side: Rewire\") \n",
    "VitalSide.description = [] \n",
    "VitalSide.url = \"https://vital-side.com/pages/vital-side-membership\"\n",
    "VitalSide.price = 397 \n",
    "VitalSide.pricing_notes = [] \n",
    "VitalSide.discount = [] \n",
    "VitalSide.coaching = \"o\" \n",
    "VitalSide.refundable = [] \n",
    "VitalSide.community = \"y\"\n",
    "VitalSide.forum = \"y\"\n",
    "program_list.append(VitalSide)"
   ]
  },
  {
   "cell_type": "code",
   "execution_count": 214,
   "id": "1f41d5c7-ba46-4eac-ba37-6fa2ef848b28",
   "metadata": {},
   "outputs": [],
   "source": [
    "HealThruNeuroplast = Program(\"Healing Through Neuroplasticity\") \n",
    "HealThruNeuroplast.description = [] \n",
    "HealThruNeuroplast.url = \"https://www.eleanorsteinmd.ca/pain\" \n",
    "HealThruNeuroplast.price = 497\n",
    "HealThruNeuroplast.pricing_notes = [] \n",
    "HealThruNeuroplast.discount = \"https://www.eleanorsteinmd.ca/pain\" \n",
    "HealThruNeuroplast.coaching = \"o\" \n",
    "HealThruNeuroplast.refundable = \"100% within 30 days.\" \n",
    "HealThruNeuroplast.community = \"n\" \n",
    "HealThruNeuroplast.forum = \"y\"\n",
    "program_list.append(HealThruNeuroplast)"
   ]
  },
  {
   "cell_type": "code",
   "execution_count": 215,
   "id": "88e2da78-35ad-4419-8d7e-4e11f5ed5f2d",
   "metadata": {},
   "outputs": [],
   "source": [
    "CFSSchool = Program(\"CFS School: HEAL\") \n",
    "CFSSchool.description = [] \n",
    "CFSSchool.url = \"https://somiainternational.com/heal/\"\n",
    "CFSSchool.price = 997 \n",
    "CFSSchool.pricing_notes = [] \n",
    "CFSSchool.discount = \"https://somiainternational.com/heal/#faq\"\n",
    "CFSSchool.coaching = \"o\" \n",
    "CFSSchool.refundable = \"Free trial period - Access to the first module (https://programs.somiainternational.com/try-heal).\" \n",
    "CFSSchool.community = \"o\" \n",
    "CFSSchool.forum = \"y\"\n",
    "program_list.append(CFSSchool)"
   ]
  },
  {
   "cell_type": "code",
   "execution_count": 216,
   "id": "0850f89f-1038-4ed2-b0ff-724dec7270e4",
   "metadata": {},
   "outputs": [],
   "source": [
    "Release = Program(\"Release CFS\") \n",
    "Release.description = [] \n",
    "Release.url = \"https://releasecfs.com/release-program/\"\n",
    "Release.price = 490\n",
    "Release.pricing_notes = [\"432 EUR, exact conversion to USD will vary.\"] \n",
    "Release.discount = []\n",
    "Release.coaching = \"o\" \n",
    "Release.refundable = [] \n",
    "Release.community = \"y\" \n",
    "Release.forum = \"n\"\n",
    "program_list.append(Release)"
   ]
  },
  {
   "cell_type": "code",
   "execution_count": 217,
   "id": "7fc68ef0-6dcb-4707-9083-9d6aa2dfe300",
   "metadata": {},
   "outputs": [],
   "source": [
    "BYOM = Program(\"Be Your Own Medicine\") \n",
    "BYOM.description = [] \n",
    "BYOM.url = \"https://www.rebeccatolin.com/course\"\n",
    "BYOM.price = 595\n",
    "BYOM.pricing_notes = [] \n",
    "BYOM.discount = \"https://docs.google.com/forms/d/e/1FAIpQLSe93WVHJ_qd4T9B2wn9z6mchRv8jf-YrguCIye16vF1DpQZfQ/viewform\"\n",
    "BYOM.coaching = \"o\" \n",
    "BYOM.refundable = \"100% (less $75) within 7 days.\"\n",
    "BYOM.community = \"y\" \n",
    "BYOM.forum = \"n\"\n",
    "program_list.append(BYOM)"
   ]
  },
  {
   "cell_type": "code",
   "execution_count": 218,
   "id": "84fdaf7c-2cbd-4795-ae34-40e4f799fd84",
   "metadata": {},
   "outputs": [],
   "source": [
    "Haven = Program(\"Haven\") \n",
    "Haven.description = [] \n",
    "Haven.url = \"https://yourgratefulguide.com/join-haven/learn-more\"\n",
    "Haven.price = 330\n",
    "Haven.pricing_notes = [\"$55/month, price shown is for 6 months. Quarterly and yearly pricing also available.\"] \n",
    "Haven.discount = []\n",
    "Haven.coaching = \"o\" \n",
    "Haven.refundable = \"Free trial period - 7 days.\"\n",
    "Haven.community = \"y\" \n",
    "Haven.forum = \"y\"\n",
    "program_list.append(Haven)"
   ]
  },
  {
   "cell_type": "code",
   "execution_count": 219,
   "id": "f9909157-6bdf-415a-8765-cf00a2edbf04",
   "metadata": {},
   "outputs": [],
   "source": [
    "Reset = Program(\"Reset\") \n",
    "Reset.description = [] \n",
    "Reset.url = \"https://www.alexhoward.com/decodeyourfatigue/reset\"\n",
    "Reset.price = 497\n",
    "Reset.pricing_notes = [] \n",
    "Reset.discount = []\n",
    "Reset.coaching = \"o\" \n",
    "Reset.refundable = \"100% within 14 days.\"\n",
    "Reset.community = \"y\" \n",
    "Reset.forum = \"y\"\n",
    "program_list.append(Reset)"
   ]
  },
  {
   "cell_type": "code",
   "execution_count": 220,
   "id": "10eb5b31-dced-4956-a374-185c1b5fe33e",
   "metadata": {},
   "outputs": [],
   "source": [
    "NSR = Program(\"Nervous System Rewire\") \n",
    "NSR.description = [] \n",
    "NSR.url = \"https://nervoussystemrewire.mykajabi.com/\"\n",
    "NSR.price = 505\n",
    "NSR.pricing_notes = [\"699 CAD, exact conversion to USD will vary.\"] \n",
    "NSR.discount = []\n",
    "NSR.coaching = \"o\" \n",
    "NSR.refundable = \"100% within 6 months.\"\n",
    "NSR.community = \"o\" \n",
    "NSR.forum = \"y\"\n",
    "program_list.append(NSR)"
   ]
  },
  {
   "cell_type": "code",
   "execution_count": 221,
   "id": "db59a9ad-b704-43ec-bc0a-917c80442374",
   "metadata": {},
   "outputs": [],
   "source": [
    "BR101 = Program(\"Brain Retraining 101\") \n",
    "BR101.description = [] \n",
    "BR101.url = \"https://raelan-agle-s-school1.teachable.com/p/brain_retraining_101\"\n",
    "BR101.price = 295\n",
    "BR101.pricing_notes = []\n",
    "BR101.discount = []\n",
    "BR101.coaching = \"Weekly group call.\"\n",
    "BR101.refundable = \"100% within 14 days.\"\n",
    "BR101.community = \"y\" \n",
    "BR101.forum = []\n",
    "program_list.append(BR101)"
   ]
  },
  {
   "cell_type": "code",
   "execution_count": 222,
   "id": "86cc8ffc-e5c8-49da-9d8f-8854b3ed2305",
   "metadata": {},
   "outputs": [
    {
     "name": "stdout",
     "output_type": "stream",
     "text": [
      "Primal Trust\n",
      "ANS Rewire\n",
      "re-origin\n",
      "The Edison Effect\n",
      "DNRS\n",
      "The Gupta Program\n",
      "Vital Side: Rewire\n",
      "Healing Through Neuroplasticity\n",
      "CFS School: HEAL\n",
      "Release CFS\n",
      "Be Your Own Medicine\n",
      "Haven\n",
      "Reset\n",
      "Nervous System Rewire\n",
      "Brain Retraining 101\n"
     ]
    }
   ],
   "source": [
    "for prog in program_list: print(prog.name)"
   ]
  },
  {
   "cell_type": "code",
   "execution_count": 223,
   "id": "dff7ae72-aeeb-49f0-9d6c-dad3efcc2de0",
   "metadata": {},
   "outputs": [],
   "source": [
    "# Save to file\n",
    "with open('program_list.pkl', 'wb') as file:\n",
    "    pickle.dump(program_list, file)"
   ]
  }
 ],
 "metadata": {
  "kernelspec": {
   "display_name": "Python [conda env:base] *",
   "language": "python",
   "name": "conda-base-py"
  },
  "language_info": {
   "codemirror_mode": {
    "name": "ipython",
    "version": 3
   },
   "file_extension": ".py",
   "mimetype": "text/x-python",
   "name": "python",
   "nbconvert_exporter": "python",
   "pygments_lexer": "ipython3",
   "version": "3.9.21"
  }
 },
 "nbformat": 4,
 "nbformat_minor": 5
}
