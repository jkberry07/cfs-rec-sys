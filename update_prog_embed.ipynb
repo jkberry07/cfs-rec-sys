{
 "cells": [
  {
   "cell_type": "markdown",
   "id": "491e7f49-4b1d-4901-8a55-30601dcd43ab",
   "metadata": {},
   "source": [
    "Load the list of therapeutic programs, generate semantic and tone embeddings from the text associated with each program."
   ]
  },
  {
   "cell_type": "code",
   "execution_count": 36,
   "id": "d73f04f8-0fbf-4189-a1f7-932dbdc217ee",
   "metadata": {},
   "outputs": [],
   "source": [
    "from Programs import Program, get_semantic_embedding, get_tone_embedding\n",
    "import pickle\n",
    "import numpy as np"
   ]
  },
  {
   "cell_type": "code",
   "execution_count": 37,
   "id": "40846405-5e0a-47a9-aad3-99de2cef0fae",
   "metadata": {},
   "outputs": [
    {
     "name": "stdout",
     "output_type": "stream",
     "text": [
      "0 Primal Trust\n",
      "1 ANS Rewire\n",
      "2 re-origin\n",
      "3 The Edison Effect\n",
      "4 DNRS\n",
      "5 The Gupta Program\n",
      "6 Vital Side: Rewire\n",
      "7 Healing Through Neuroplasticity\n",
      "8 CFS School: HEAL\n",
      "9 Release CFS\n",
      "10 Be Your Own Medicine\n",
      "11 Haven\n",
      "12 Reset\n",
      "13 Nervous System Rewire\n",
      "14 Brain Retraining 101\n"
     ]
    }
   ],
   "source": [
    "with open('program_list.pkl', 'rb') as file:\n",
    "    program_list = pickle.load(file)\n",
    "    \n",
    "indx = 0\n",
    "for prog in program_list:  #show list of programs with their index\n",
    "    print(indx,prog.name)\n",
    "    indx+=1"
   ]
  },
  {
   "cell_type": "code",
   "execution_count": 38,
   "id": "86c9a87c-2256-4d15-81e2-86fd6c206175",
   "metadata": {},
   "outputs": [],
   "source": [
    "for prog in program_list:\n",
    "    sem_embeddings = []\n",
    "    tone_embeddings = []\n",
    "    for txt in prog.text:\n",
    "        sem_embeddings.append(get_semantic_embedding(txt))\n",
    "        tone_embeddings.append(get_tone_embedding(txt))\n",
    "    prog.semantic_embeddings = sem_embeddings\n",
    "    prog.tone_embeddings = tone_embeddings"
   ]
  },
  {
   "cell_type": "code",
   "execution_count": 39,
   "id": "15f625da-0397-4a6a-b616-1e364dad1ba0",
   "metadata": {},
   "outputs": [],
   "source": [
    "# #To make sure text and embedding attributes have the same length\n",
    "# for i in range(len(program_list)):\n",
    "#     print(np.shape(program_list[i].text))\n",
    "#     print(np.shape(program_list[i].semantic_embeddings))\n",
    "#     print(np.shape(program_list[i].tone_embeddings))"
   ]
  },
  {
   "cell_type": "code",
   "execution_count": 40,
   "id": "0ceedafb-8d4f-4fa1-a3c7-099814d776ba",
   "metadata": {},
   "outputs": [],
   "source": [
    "#Save updated program list\n",
    "with open('program_list.pkl', 'wb') as file:\n",
    "    pickle.dump(program_list, file)"
   ]
  },
  {
   "cell_type": "code",
   "execution_count": null,
   "id": "ed2ee387-14bc-4815-aec5-1b072391c997",
   "metadata": {},
   "outputs": [],
   "source": []
  }
 ],
 "metadata": {
  "kernelspec": {
   "display_name": "Python [conda env:base] *",
   "language": "python",
   "name": "conda-base-py"
  },
  "language_info": {
   "codemirror_mode": {
    "name": "ipython",
    "version": 3
   },
   "file_extension": ".py",
   "mimetype": "text/x-python",
   "name": "python",
   "nbconvert_exporter": "python",
   "pygments_lexer": "ipython3",
   "version": "3.9.21"
  }
 },
 "nbformat": 4,
 "nbformat_minor": 5
}
